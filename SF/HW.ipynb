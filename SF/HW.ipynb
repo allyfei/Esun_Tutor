{
 "cells": [
  {
   "cell_type": "code",
   "execution_count": 4,
   "metadata": {
    "collapsed": false
   },
   "outputs": [
    {
     "name": "stdout",
     "output_type": "stream",
     "text": [
      "/Users/aha/Desktop/Python/SF\r\n"
     ]
    }
   ],
   "source": [
    "!pwd"
   ]
  },
  {
   "cell_type": "code",
   "execution_count": 7,
   "metadata": {
    "collapsed": true
   },
   "outputs": [],
   "source": [
    "!cd ../"
   ]
  },
  {
   "cell_type": "code",
   "execution_count": 20,
   "metadata": {
    "collapsed": false
   },
   "outputs": [
    {
     "name": "stdout",
     "output_type": "stream",
     "text": [
      "total 776\r\n",
      "drwxr-xr-x   9 aha  staff     306 Jan  8 11:40 \u001b[34m.\u001b[m\u001b[m\r\n",
      "drwxr-xr-x  21 aha  staff     714 Jan  8 11:26 \u001b[34m..\u001b[m\u001b[m\r\n",
      "drwxr-xr-x   3 aha  staff     102 Jan  8 11:28 \u001b[34m.ipynb_checkpoints\u001b[m\u001b[m\r\n",
      "-rw-r--r--   1 aha  staff   50708 Jan  8 11:31 12081400(10511).ods\r\n",
      "-rw-r--r--   1 aha  staff  239616 Jan  8 11:31 12081400(10511).xls\r\n",
      "-rw-r--r--   1 aha  staff   77525 Jan  8 11:28 12081400(10511).zip\r\n",
      "-rw-r--r--@  1 aha  staff   13044 Jan  8 11:40 HW.ipynb\r\n",
      "-rw-r--r--   1 aha  staff    2915 Jan  8 11:39 export_LC.csv\r\n",
      "-rw-r--r--   1 aha  staff    3486 Jan  8 11:33 import_LC.csv\r\n"
     ]
    }
   ],
   "source": [
    "!ls -al"
   ]
  },
  {
   "cell_type": "markdown",
   "metadata": {},
   "source": [
    "## 處理流程\n",
    "\n",
    "- 下載檔案 Extract\n",
    "- 基本的檔案處理 ( 解壓縮, 轉換格式...等) Transformation\n",
    "- 資料格式處理 T\n",
    "- 資料輸出 Loading\n",
    "\n"
   ]
  },
  {
   "cell_type": "code",
   "execution_count": 1,
   "metadata": {
    "collapsed": false
   },
   "outputs": [],
   "source": [
    "import requests"
   ]
  },
  {
   "cell_type": "markdown",
   "metadata": {},
   "source": [
    "## 下載"
   ]
  },
  {
   "cell_type": "code",
   "execution_count": 3,
   "metadata": {
    "collapsed": false
   },
   "outputs": [
    {
     "data": {
      "text/plain": [
       "'./12081400(10511).zip'"
      ]
     },
     "execution_count": 3,
     "metadata": {},
     "output_type": "execute_result"
    }
   ],
   "source": [
    "def download_file(folder_path,url):\n",
    "    local_filename = folder_path+url.split('/')[-1]\n",
    "    # NOTE the stream=True parameter\n",
    "    r = requests.get(url, stream=True)\n",
    "    with open(local_filename, 'wb') as f:\n",
    "        for chunk in r.iter_content(chunk_size=1024): \n",
    "            if chunk: # filter out keep-alive new chunks\n",
    "                f.write(chunk)\n",
    "                #f.flush() commented by recommendation from J.F.Sebastian\n",
    "    return local_filename\n",
    "download_file(\"./\",\"http://www.banking.gov.tw/webdowndoc?file=/stat/lc/12081400(10511).zip\")\n",
    "\n",
    "\n"
   ]
  },
  {
   "cell_type": "markdown",
   "metadata": {},
   "source": [
    "## 解壓縮"
   ]
  },
  {
   "cell_type": "code",
   "execution_count": 11,
   "metadata": {
    "collapsed": false
   },
   "outputs": [],
   "source": [
    "import zipfile\n",
    "zf = zipfile.ZipFile(\"12081400(10511).zip\",'r',zipfile.ZIP_DEFLATED)#打开已存在的zip文件\n",
    "#zf.extractall(\"C:/Users/Administrator/Desktop/helloworld/Code/trade/\")#解压到当前目录\n",
    "zf.extractall(\"./\")#解压到当前目录"
   ]
  },
  {
   "cell_type": "markdown",
   "metadata": {},
   "source": [
    "檢查解壓縮好的資料"
   ]
  },
  {
   "cell_type": "code",
   "execution_count": 12,
   "metadata": {
    "collapsed": false
   },
   "outputs": [
    {
     "name": "stdout",
     "output_type": "stream",
     "text": [
      "total 760\r\n",
      "drwxr-xr-x   7 aha  staff     238 Jan  8 11:31 \u001b[34m.\u001b[m\u001b[m\r\n",
      "drwxr-xr-x  21 aha  staff     714 Jan  8 11:26 \u001b[34m..\u001b[m\u001b[m\r\n",
      "drwxr-xr-x   3 aha  staff     102 Jan  8 11:28 \u001b[34m.ipynb_checkpoints\u001b[m\u001b[m\r\n",
      "-rw-r--r--   1 aha  staff   50708 Jan  8 11:31 12081400(10511).ods\r\n",
      "-rw-r--r--   1 aha  staff  239616 Jan  8 11:31 12081400(10511).xls\r\n",
      "-rw-r--r--   1 aha  staff   77525 Jan  8 11:28 12081400(10511).zip\r\n",
      "-rw-r--r--@  1 aha  staff   14151 Jan  8 11:30 HW.ipynb\r\n"
     ]
    }
   ],
   "source": [
    "!ls -al"
   ]
  },
  {
   "cell_type": "code",
   "execution_count": 24,
   "metadata": {
    "collapsed": false
   },
   "outputs": [
    {
     "data": {
      "text/plain": [
       "{'時間': '201611', '業務項目': '進口開狀', '銀行類別': '本國銀行'}"
      ]
     },
     "execution_count": 24,
     "metadata": {},
     "output_type": "execute_result"
    }
   ],
   "source": [
    "bank = {\"銀行類別\":\"本國銀行\",\"時間\":\"201611\",\"業務項目\":\"進口開狀\"}\n",
    "bank"
   ]
  },
  {
   "cell_type": "code",
   "execution_count": 43,
   "metadata": {
    "collapsed": false
   },
   "outputs": [],
   "source": [
    "import xlrd\n",
    "import sys\n",
    "#book = xlrd.open_workbook(\"C:/Users/Administrator/Desktop/helloworld/Code/trade/12081400(10511).xls\")\n",
    "book = xlrd.open_workbook(\"./12081400(10511).xls\")\n",
    "sh = book.sheet_by_index(1)\n",
    "banks = []\n",
    "def extract_bank(row_s,d):\n",
    "    bank = {\"銀行類別\":\"本國銀行\",\"時間\":d,\"業務項目\":\"進口開狀\"}\n",
    "    name_zh = sh.cell_value(rowx=row_s,colx = 0).replace(\"\\u3000\",\"\").encode(sys.stdin.encoding, \"replace\").decode(sys.stdin.encoding)\n",
    "    this_month = int(sh.cell_value(rowx=row_s,colx = 2).replace(\",\",\"\"))*1000\n",
    "    sum_month = int(sh.cell_value(rowx=row_s,colx = 5).replace(\",\",\"\"))*1000\n",
    "    bank[\"本月\"] = this_month\n",
    "    bank[\"本年累計\"] = sum_month\n",
    "    bank[\"銀行中文名稱\"] = name_zh\n",
    "    return bank\n",
    "\n",
    "#for i in range(8,47):\n",
    "#    banks.append(extract_bank(i))"
   ]
  },
  {
   "cell_type": "code",
   "execution_count": 28,
   "metadata": {
    "collapsed": true
   },
   "outputs": [],
   "source": [
    "read_Flag = 0\n",
    "index = 0\n",
    "while 1:\n",
    "    ## 狀態控制\n",
    "    if read_Flag == 0 and sh.cell_value(rowx=index,colx = 0).replace(\"\\u3000\",\"\")==\"總計\":\n",
    "        read_Flag = 1\n",
    "    if read_Flag == 1 and sh.cell_value(rowx=index,colx = 0).replace(\"\\u3000\",\"\") ==\"\":\n",
    "        break\n",
    "    ## 資料處理\n",
    "    if read_Flag == 1:\n",
    "        banks.append(extract_bank(index))\n",
    "    index = index + 1\n",
    "    "
   ]
  },
  {
   "cell_type": "markdown",
   "metadata": {},
   "source": [
    "### 寫出進口開狀"
   ]
  },
  {
   "cell_type": "code",
   "execution_count": 55,
   "metadata": {
    "collapsed": false
   },
   "outputs": [],
   "source": [
    "def writeToLC(date,banks):\n",
    "    with open('./import_LC_'+date+'.csv','w+') as f:\n",
    "        f.write(\"銀行中文名稱,本月,本年累計,銀行類別,時間,業務項目\")\n",
    "        for bank in banks:\n",
    "            f.write(\"\\n\")\n",
    "            f.write(bank[\"銀行中文名稱\"]+\",\")\n",
    "            f.write(\"%d,\"%(bank[\"本月\"]))\n",
    "            f.write(\"%d,\"%(bank[\"本年累計\"]))\n",
    "            f.write(bank[\"銀行類別\"]+\",\")\n",
    "            f.write(bank[\"時間\"]+\",\")\n",
    "            f.write(bank[\"業務項目\"])\n",
    "#writeToLC('201611')            "
   ]
  },
  {
   "cell_type": "code",
   "execution_count": 57,
   "metadata": {
    "collapsed": false
   },
   "outputs": [],
   "source": [
    "date = 10510\n",
    "def month_job(date):\n",
    "    download_file(\"./\",\"http://www.banking.gov.tw/webdowndoc?file=/stat/lc/12081400(%d).zip\"%date)\n",
    "    zf = zipfile.ZipFile(\"12081400(%d).zip\"%date,'r',zipfile.ZIP_DEFLATED)#打开已存在的zip文件\n",
    "    #zf.extractall(\"C:/Users/Administrator/Desktop/helloworld/Code/trade/\")#解压到当前目录\n",
    "    zf.extractall(\"./\")#解压到当前目录\n",
    "    book = xlrd.open_workbook(\"./12081400(%d).xls\"%date)\n",
    "    sh = book.sheet_by_index(1)\n",
    "    banks = []\n",
    "    read_Flag = 0\n",
    "    index = 0\n",
    "\n",
    "    while 1:\n",
    "        ## 狀態控制\n",
    "        if read_Flag == 0 and sh.cell_value(rowx=index,colx = 0).replace(\"\\u3000\",\"\")==\"總計\":\n",
    "            read_Flag = 1\n",
    "        if read_Flag == 1 and sh.cell_value(rowx=index,colx = 0).replace(\"\\u3000\",\"\") ==\"\":\n",
    "            break\n",
    "        ## 資料處理\n",
    "        if read_Flag == 1:\n",
    "            banks.append(extract_bank(index,'%d'%(date+191100)))\n",
    "        index = index + 1\n",
    "    writeToLC('%d'%(date+191100),banks)    \n"
   ]
  },
  {
   "cell_type": "code",
   "execution_count": 59,
   "metadata": {
    "collapsed": false
   },
   "outputs": [],
   "source": [
    "month_job(10508)"
   ]
  },
  {
   "cell_type": "markdown",
   "metadata": {},
   "source": [
    "## 出口押匯"
   ]
  },
  {
   "cell_type": "code",
   "execution_count": 18,
   "metadata": {
    "collapsed": true
   },
   "outputs": [],
   "source": [
    "import xlrd\n",
    "import sys\n",
    "#book = xlrd.open_workbook(\"C:/Users/Administrator/Desktop/helloworld/Code/trade/12081400(10511).xls\")\n",
    "book = xlrd.open_workbook(\"./12081400(10511).xls\")\n",
    "sh = book.sheet_by_index(4)\n",
    "banks = []\n",
    "def extract_bank(row_s):\n",
    "    bank = {\"銀行類別\":\"本國銀行\",\"時間\":\"201611\",\"業務項目\":\"出口押匯\"}\n",
    "    name_zh = sh.cell_value(rowx=row_s,colx = 0).replace(\"\\u3000\",\"\").encode(sys.stdin.encoding, \"replace\").decode(sys.stdin.encoding)\n",
    "    this_month = int(sh.cell_value(rowx=row_s,colx = 2).replace(\",\",\"\"))*1000\n",
    "    sum_month = int(sh.cell_value(rowx=row_s,colx = 5).replace(\",\",\"\"))*1000\n",
    "    bank[\"本月\"] = this_month\n",
    "    bank[\"本年累計\"] = sum_month\n",
    "    bank[\"銀行中文名稱\"] = name_zh\n",
    "    return bank\n",
    "for i in range(8,47):\n",
    "    banks.append(extract_bank(i))"
   ]
  },
  {
   "cell_type": "markdown",
   "metadata": {},
   "source": [
    "## 寫出出口開狀檔案"
   ]
  },
  {
   "cell_type": "code",
   "execution_count": 19,
   "metadata": {
    "collapsed": true
   },
   "outputs": [],
   "source": [
    "with open('./export_LC.csv','w+') as f:\n",
    "    f.write(\"銀行中文名稱,本月,本年累計,銀行類別,時間,\\n\")\n",
    "    for bank in banks:\n",
    "        f.write(bank[\"銀行中文名稱\"]+\",\")\n",
    "        f.write(\"%d,\"%(bank[\"本月\"]))\n",
    "        f.write(\"%d,\"%(bank[\"本年累計\"]))\n",
    "        f.write(bank[\"銀行類別\"]+\",\")\n",
    "        f.write(bank[\"時間\"]+\",\")\n",
    "        f.write(bank[\"業務項目\"]+\",\\n\")\n",
    "        "
   ]
  },
  {
   "cell_type": "markdown",
   "metadata": {
    "collapsed": false
   },
   "source": [
    "!dir/w"
   ]
  },
  {
   "cell_type": "markdown",
   "metadata": {
    "collapsed": false
   },
   "source": [
    "download_file('C:/Users/Administrator/Desktop/helloworld/Code/trade/',\"http://www.banking.gov.tw/webdowndoc?file=/stat/lc/12081400(10511).zip\")"
   ]
  },
  {
   "cell_type": "markdown",
   "metadata": {
    "collapsed": false
   },
   "source": [
    "import xlrd\n",
    "book = xlrd.open_workbook(\"./12081400(10511)/12081400(10511).xls\")\n",
    "sh = book.sheet_by_index(1)"
   ]
  },
  {
   "cell_type": "markdown",
   "metadata": {
    "collapsed": true
   },
   "source": [
    "banks = []"
   ]
  },
  {
   "cell_type": "markdown",
   "metadata": {
    "collapsed": true
   },
   "source": [
    "bank = {\"銀行類別\":\"本國銀行\",\"時間\":\"201611\",\"業務項目\":\"進口開狀\"}"
   ]
  },
  {
   "cell_type": "code",
   "execution_count": 150,
   "metadata": {
    "collapsed": false
   },
   "outputs": [
    {
     "data": {
      "text/plain": [
       "'?豐(台灣)商業銀行'"
      ]
     },
     "execution_count": 150,
     "metadata": {},
     "output_type": "execute_result"
    }
   ],
   "source": [
    "name_zh = sh.cell_value(rowx=8,colx = 0).replace(\"\\u3000\",\"\")\n",
    "name_zh\n",
    "name_zh = sh.cell_value(rowx=28,colx = 0).replace(\"\\u3000\",\"\")\n",
    "name_zh.encode(sys.stdin.encoding, \"replace\").decode(sys.stdin.encoding)\n",
    "i"
   ]
  },
  {
   "cell_type": "markdown",
   "metadata": {
    "collapsed": false
   },
   "source": [
    "this_month = sh.cell_value(rowx=8,colx = 2)\n",
    "this_month"
   ]
  },
  {
   "cell_type": "markdown",
   "metadata": {
    "collapsed": false
   },
   "source": [
    "sum_month = sh.cell_value(rowx = 8, colx = 5)\n",
    "sum_month"
   ]
  },
  {
   "cell_type": "markdown",
   "metadata": {
    "collapsed": false
   },
   "source": [
    "print(book.nsheets)\n",
    "print(sh.ncols)\n",
    "print(sh.nrows)"
   ]
  },
  {
   "cell_type": "markdown",
   "metadata": {
    "collapsed": false
   },
   "source": [
    "bank[\"本月\"] = this_month\n",
    "bank[\"本年累計\"] = sum_month\n",
    "bank[\"銀行中文名稱\"] = name_zh\n",
    "bank"
   ]
  },
  {
   "cell_type": "markdown",
   "metadata": {
    "collapsed": false
   },
   "source": [
    "banks.append(bank)\n",
    "banks\n"
   ]
  },
  {
   "cell_type": "markdown",
   "metadata": {
    "collapsed": false
   },
   "source": [
    "banks"
   ]
  },
  {
   "cell_type": "code",
   "execution_count": null,
   "metadata": {
    "collapsed": true
   },
   "outputs": [],
   "source": []
  },
  {
   "cell_type": "markdown",
   "metadata": {
    "collapsed": false
   },
   "source": [
    "import sys\n",
    "print(name_zh.encode(sys.stdin.encoding, \"replace\").decode(sys.stdin.encoding))"
   ]
  },
  {
   "cell_type": "markdown",
   "metadata": {
    "collapsed": false
   },
   "source": [
    "for i in range(7,48):\n",
    "    this_month = (int(sh.cell_value(rowx=i,colx = 2).replace(\",\",\"\"))*1e3)\n",
    "    print(this_month)"
   ]
  },
  {
   "cell_type": "markdown",
   "metadata": {
    "collapsed": false
   },
   "source": [
    "import xlrd\n",
    "workbook = xlrd.open_workbook(\"./12081400(10511)/12081400(10511).xls\")\n",
    "sh = workbook.sheet_by_index(1)\n",
    "print(workbook.nsheets)\n",
    "print(workbook.sheet_names())\n",
    "print(sh.col_values(0))"
   ]
  },
  {
   "cell_type": "markdown",
   "metadata": {
    "collapsed": false
   },
   "source": [
    "print(sh.ncols)"
   ]
  },
  {
   "cell_type": "markdown",
   "metadata": {
    "collapsed": false
   },
   "source": [
    "for i in range(7,48):\n",
    "    thismonth = int(sh.cell_value(rowx=i,colx = 2).replace(\",\",\"\"))\n",
    "    print(this_month)"
   ]
  },
  {
   "cell_type": "markdown",
   "metadata": {
    "collapsed": false
   },
   "source": [
    "thismonth = sh.cell_value(rowx=8,colx = 2).replace(\",\",\"\")\n",
    "thismonth = int(thismonth)*1000\n",
    "type(thismonth)\n",
    "print(thismonth)\n"
   ]
  },
  {
   "cell_type": "markdown",
   "metadata": {
    "collapsed": false
   },
   "source": [
    "# coding=utf-8\n",
    "import zipfile\n",
    "zf = zipfile.ZipFile(\"./test.zip\",'r',zipfile.ZIP_DEFLATED)#打开已存在的zip文件\n",
    "zf.extractall(\"./\")#解压到当前目录\n",
    "#zf.extractall('..') #解压到上一级目录\n",
    "#zf.extractall('C:/')#解压到C:/tmp文件夹，文件夹不存在则创建\n"
   ]
  }
 ],
 "metadata": {
  "kernelspec": {
   "display_name": "Python 3",
   "language": "python",
   "name": "python3"
  },
  "language_info": {
   "codemirror_mode": {
    "name": "ipython",
    "version": 3
   },
   "file_extension": ".py",
   "mimetype": "text/x-python",
   "name": "python",
   "nbconvert_exporter": "python",
   "pygments_lexer": "ipython3",
   "version": "3.5.2"
  }
 },
 "nbformat": 4,
 "nbformat_minor": 1
}
